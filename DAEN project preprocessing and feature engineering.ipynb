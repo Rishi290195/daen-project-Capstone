{
 "cells": [
  {
   "cell_type": "code",
   "execution_count": 770,
   "metadata": {},
   "outputs": [],
   "source": [
    "import os\n",
    "import glob\n",
    "import pandas as pd\n",
    "import numpy as np\n",
    "import random\n",
    "os.chdir('/Users/rishi/Desktop/DAEN 690/indeed')"
   ]
  },
  {
   "cell_type": "code",
   "execution_count": 807,
   "metadata": {},
   "outputs": [],
   "source": [
    "extension = 'csv'\n",
    "csv_file = [i for i in glob.glob('*.{}'.format(extension))]"
   ]
  },
  {
   "cell_type": "code",
   "execution_count": 808,
   "metadata": {},
   "outputs": [],
   "source": [
    "combined_csv = pd.concat([pd.read_csv(f) for f in csv_file ])\n",
    "combined_csv.to_csv( \"Job_posting_indeed.csv\", index=False, encoding='utf-8-sig')"
   ]
  },
  {
   "cell_type": "code",
   "execution_count": 809,
   "metadata": {},
   "outputs": [],
   "source": [
    "indeed=pd.read_csv('Job_posting_indeed.csv')"
   ]
  },
  {
   "cell_type": "code",
   "execution_count": 810,
   "metadata": {},
   "outputs": [],
   "source": [
    "#delete the first column\n",
    "del indeed['Unnamed: 0']     "
   ]
  },
  {
   "cell_type": "code",
   "execution_count": 811,
   "metadata": {},
   "outputs": [],
   "source": [
    "#method 1 for removinfg new from title\n",
    "indeed['title'] = indeed['title'].str.lstrip('new')"
   ]
  },
  {
   "cell_type": "code",
   "execution_count": 812,
   "metadata": {},
   "outputs": [],
   "source": [
    "#method 2 for removing new from title\n",
    "#   indeed['newcol']=np.where(indeed['title'].str[:3]=='new', indeed['title'].str[3:], indeed['title'])"
   ]
  },
  {
   "cell_type": "code",
   "execution_count": 813,
   "metadata": {},
   "outputs": [
    {
     "data": {
      "text/html": [
       "<div>\n",
       "<style scoped>\n",
       "    .dataframe tbody tr th:only-of-type {\n",
       "        vertical-align: middle;\n",
       "    }\n",
       "\n",
       "    .dataframe tbody tr th {\n",
       "        vertical-align: top;\n",
       "    }\n",
       "\n",
       "    .dataframe thead th {\n",
       "        text-align: right;\n",
       "    }\n",
       "</style>\n",
       "<table border=\"1\" class=\"dataframe\">\n",
       "  <thead>\n",
       "    <tr style=\"text-align: right;\">\n",
       "      <th></th>\n",
       "      <th>title</th>\n",
       "      <th>company</th>\n",
       "      <th>salary</th>\n",
       "      <th>summary</th>\n",
       "      <th>location</th>\n",
       "    </tr>\n",
       "  </thead>\n",
       "  <tbody>\n",
       "    <tr>\n",
       "      <th>0</th>\n",
       "      <td>Software Developer (No Prior Experience Required)</td>\n",
       "      <td>Revature</td>\n",
       "      <td>NaN</td>\n",
       "      <td>College degree (Associates or Bachelors).\\nMus...</td>\n",
       "      <td>Washington, DC</td>\n",
       "    </tr>\n",
       "    <tr>\n",
       "      <th>1</th>\n",
       "      <td>SQL Application Developer</td>\n",
       "      <td>ServiceSource Inc.</td>\n",
       "      <td>NaN</td>\n",
       "      <td>Assist with the management and coordination be...</td>\n",
       "      <td>Capitol Heights, MD</td>\n",
       "    </tr>\n",
       "    <tr>\n",
       "      <th>2</th>\n",
       "      <td>GIS Developer</td>\n",
       "      <td>Leidos</td>\n",
       "      <td>NaN</td>\n",
       "      <td>Train other team members on GIS and other GIS ...</td>\n",
       "      <td>Washington, DC 20090 (South West area)+1 location</td>\n",
       "    </tr>\n",
       "    <tr>\n",
       "      <th>3</th>\n",
       "      <td>Jr Software Developer</td>\n",
       "      <td>KSquare Inc.</td>\n",
       "      <td>NaN</td>\n",
       "      <td>BS/ MS in IT or equivalent is required with st...</td>\n",
       "      <td>Greenbelt, MD 20770</td>\n",
       "    </tr>\n",
       "    <tr>\n",
       "      <th>4</th>\n",
       "      <td>HP059 Junior Software Developer</td>\n",
       "      <td>ADNET Systems, Inc.</td>\n",
       "      <td>NaN</td>\n",
       "      <td>Experience with using a Git workflow for softw...</td>\n",
       "      <td>Greenbelt, MD 20771</td>\n",
       "    </tr>\n",
       "  </tbody>\n",
       "</table>\n",
       "</div>"
      ],
      "text/plain": [
       "                                               title              company  \\\n",
       "0  Software Developer (No Prior Experience Required)             Revature   \n",
       "1                          SQL Application Developer   ServiceSource Inc.   \n",
       "2                                      GIS Developer               Leidos   \n",
       "3                              Jr Software Developer         KSquare Inc.   \n",
       "4                    HP059 Junior Software Developer  ADNET Systems, Inc.   \n",
       "\n",
       "  salary                                            summary  \\\n",
       "0    NaN  College degree (Associates or Bachelors).\\nMus...   \n",
       "1    NaN  Assist with the management and coordination be...   \n",
       "2    NaN  Train other team members on GIS and other GIS ...   \n",
       "3    NaN  BS/ MS in IT or equivalent is required with st...   \n",
       "4    NaN  Experience with using a Git workflow for softw...   \n",
       "\n",
       "                                            location  \n",
       "0                                     Washington, DC  \n",
       "1                                Capitol Heights, MD  \n",
       "2  Washington, DC 20090 (South West area)+1 location  \n",
       "3                                Greenbelt, MD 20770  \n",
       "4                                Greenbelt, MD 20771  "
      ]
     },
     "execution_count": 813,
     "metadata": {},
     "output_type": "execute_result"
    }
   ],
   "source": [
    "indeed.head()"
   ]
  },
  {
   "cell_type": "code",
   "execution_count": 814,
   "metadata": {},
   "outputs": [
    {
     "data": {
      "text/plain": [
       "title           0\n",
       "company         0\n",
       "salary      11121\n",
       "summary         0\n",
       "location        0\n",
       "dtype: int64"
      ]
     },
     "execution_count": 814,
     "metadata": {},
     "output_type": "execute_result"
    }
   ],
   "source": [
    "indeed.isnull().sum()"
   ]
  },
  {
   "cell_type": "code",
   "execution_count": 815,
   "metadata": {},
   "outputs": [
    {
     "name": "stdout",
     "output_type": "stream",
     "text": [
      "<class 'pandas.core.frame.DataFrame'>\n",
      "RangeIndex: 12889 entries, 0 to 12888\n",
      "Data columns (total 5 columns):\n",
      " #   Column    Non-Null Count  Dtype \n",
      "---  ------    --------------  ----- \n",
      " 0   title     12889 non-null  object\n",
      " 1   company   12889 non-null  object\n",
      " 2   salary    1768 non-null   object\n",
      " 3   summary   12889 non-null  object\n",
      " 4   location  12889 non-null  object\n",
      "dtypes: object(5)\n",
      "memory usage: 503.6+ KB\n"
     ]
    }
   ],
   "source": [
    "indeed.info()"
   ]
  },
  {
   "cell_type": "code",
   "execution_count": 816,
   "metadata": {},
   "outputs": [],
   "source": [
    "#indeed['Experience'] = np.random.randint(1, 8, indeed.shape[0])"
   ]
  },
  {
   "cell_type": "code",
   "execution_count": 817,
   "metadata": {},
   "outputs": [],
   "source": [
    "indeed['salary'] = indeed['salary'].str.rstrip('a year')\n",
    "indeed['salary'] = indeed['salary'].str.rstrip('an hour')\n",
    "indeed['salary'] = indeed['salary'].str.rstrip('a week')\n",
    "indeed['salary'] = indeed['salary'].str.rstrip('a month')\n",
    "indeed['salary'] = indeed['salary'].str.lstrip('Up to ')\n",
    "indeed['salary'] = indeed['salary'].str.lstrip('From ')\n",
    "indeed['salary'] = indeed['salary'].str.rstrip(' a d')"
   ]
  },
  {
   "cell_type": "code",
   "execution_count": 818,
   "metadata": {},
   "outputs": [],
   "source": [
    "indeed[['salary1','salary2']] = indeed.salary.str.split(\"-\",expand=True)\n",
    "indeed['salary1'] = indeed['salary1'].str.lstrip('$')\n",
    "indeed['salary2'] = indeed['salary2'].str.lstrip(' $')"
   ]
  },
  {
   "cell_type": "code",
   "execution_count": 819,
   "metadata": {},
   "outputs": [],
   "source": [
    "#indeed['salary1'] = indeed['salary1'].fillna(0)\n",
    "#indeed['salary2'] = indeed['salary2'].fillna(0)"
   ]
  },
  {
   "cell_type": "code",
   "execution_count": 820,
   "metadata": {},
   "outputs": [],
   "source": [
    "indeed['salary1'] = indeed['salary1'].replace(',','', regex=True)\n",
    "indeed['salary2'] = indeed['salary2'].replace(',','', regex=True)\n",
    "#indeed['salary1'] = indeed['salary1'].replace('$','', regex=True)\n",
    "#indeed['salary2'] = indeed['salary2'].replace('$','', regex=True)\n",
    "\n",
    "\n",
    "#indeed['salary1'] = pd.to_numeric(indeed['salary1'])\n",
    "#indeed['salary2'] = indeed['salary2'].astype(int)"
   ]
  },
  {
   "cell_type": "code",
   "execution_count": 821,
   "metadata": {},
   "outputs": [],
   "source": [
    "indeed['salary1'] = pd.to_numeric(indeed['salary1'])\n",
    "indeed['salary2'] = pd.to_numeric(indeed['salary2'])"
   ]
  },
  {
   "cell_type": "code",
   "execution_count": 822,
   "metadata": {},
   "outputs": [],
   "source": [
    "#indeed['salary1'] = indeed['salary1'].astype(int)\n",
    "#indeed['salary2'] = indeed['salary2'].astype(int)"
   ]
  },
  {
   "cell_type": "code",
   "execution_count": 823,
   "metadata": {},
   "outputs": [
    {
     "name": "stderr",
     "output_type": "stream",
     "text": [
      "/Users/rishi/opt/anaconda3/lib/python3.7/site-packages/ipykernel_launcher.py:3: SettingWithCopyWarning: \n",
      "A value is trying to be set on a copy of a slice from a DataFrame\n",
      "\n",
      "See the caveats in the documentation: https://pandas.pydata.org/pandas-docs/stable/user_guide/indexing.html#returning-a-view-versus-a-copy\n",
      "  This is separate from the ipykernel package so we can avoid doing imports until\n",
      "/Users/rishi/opt/anaconda3/lib/python3.7/site-packages/ipykernel_launcher.py:5: SettingWithCopyWarning: \n",
      "A value is trying to be set on a copy of a slice from a DataFrame\n",
      "\n",
      "See the caveats in the documentation: https://pandas.pydata.org/pandas-docs/stable/user_guide/indexing.html#returning-a-view-versus-a-copy\n",
      "  \"\"\"\n",
      "/Users/rishi/opt/anaconda3/lib/python3.7/site-packages/ipykernel_launcher.py:7: SettingWithCopyWarning: \n",
      "A value is trying to be set on a copy of a slice from a DataFrame\n",
      "\n",
      "See the caveats in the documentation: https://pandas.pydata.org/pandas-docs/stable/user_guide/indexing.html#returning-a-view-versus-a-copy\n",
      "  import sys\n"
     ]
    }
   ],
   "source": [
    "for i in range(0,len(indeed)):    \n",
    "    if indeed['salary1'][i] in range(0,200):\n",
    "        indeed['salary1'][i] = (indeed['salary1'][i]) * 40 * 52\n",
    "    elif (indeed['salary1'][i]) in range(201,4000):\n",
    "        indeed['salary1'][i] = (indeed['salary1'][i]) * 52\n",
    "    elif (indeed['salary1'][i]) in range(4001,30000):\n",
    "        indeed['salary1'][i] = (indeed['salary1'][i]) *12    \n"
   ]
  },
  {
   "cell_type": "code",
   "execution_count": 824,
   "metadata": {},
   "outputs": [
    {
     "name": "stderr",
     "output_type": "stream",
     "text": [
      "/Users/rishi/opt/anaconda3/lib/python3.7/site-packages/ipykernel_launcher.py:3: SettingWithCopyWarning: \n",
      "A value is trying to be set on a copy of a slice from a DataFrame\n",
      "\n",
      "See the caveats in the documentation: https://pandas.pydata.org/pandas-docs/stable/user_guide/indexing.html#returning-a-view-versus-a-copy\n",
      "  This is separate from the ipykernel package so we can avoid doing imports until\n",
      "/Users/rishi/opt/anaconda3/lib/python3.7/site-packages/ipykernel_launcher.py:7: SettingWithCopyWarning: \n",
      "A value is trying to be set on a copy of a slice from a DataFrame\n",
      "\n",
      "See the caveats in the documentation: https://pandas.pydata.org/pandas-docs/stable/user_guide/indexing.html#returning-a-view-versus-a-copy\n",
      "  import sys\n"
     ]
    }
   ],
   "source": [
    "for i in range(0,len(indeed)):    \n",
    "    if indeed['salary2'][i] in range(0,200):\n",
    "        indeed['salary2'][i] = (indeed['salary2'][i]) * 40 * 52\n",
    "    elif (indeed['salary2'][i]) in range(201,3000):\n",
    "        indeed['salary2'][i] = (indeed['salary2'][i]) * 52\n",
    "    elif (indeed['salary2'][i]) in range(3001,30000):\n",
    "        indeed['salary2'][i] = (indeed['salary2'][i]) *12 "
   ]
  },
  {
   "cell_type": "code",
   "execution_count": 825,
   "metadata": {},
   "outputs": [],
   "source": [
    "del indeed['salary']"
   ]
  },
  {
   "cell_type": "code",
   "execution_count": 826,
   "metadata": {},
   "outputs": [],
   "source": [
    "indeed1 = indeed.copy()"
   ]
  },
  {
   "cell_type": "code",
   "execution_count": 827,
   "metadata": {},
   "outputs": [],
   "source": [
    "indeed2 = indeed.copy()"
   ]
  },
  {
   "cell_type": "code",
   "execution_count": 828,
   "metadata": {},
   "outputs": [],
   "source": [
    "del indeed1['salary2']"
   ]
  },
  {
   "cell_type": "code",
   "execution_count": 829,
   "metadata": {},
   "outputs": [],
   "source": [
    "del indeed2['salary1']"
   ]
  },
  {
   "cell_type": "code",
   "execution_count": 830,
   "metadata": {},
   "outputs": [],
   "source": [
    "indeed1['Experience'] = np.random.randint(1, 5, indeed.shape[0])"
   ]
  },
  {
   "cell_type": "code",
   "execution_count": 831,
   "metadata": {},
   "outputs": [],
   "source": [
    "indeed2['Experience'] = np.random.randint(6, 11, indeed.shape[0])"
   ]
  },
  {
   "cell_type": "code",
   "execution_count": 832,
   "metadata": {},
   "outputs": [],
   "source": [
    "#a = indeed2['salary2'].max()"
   ]
  },
  {
   "cell_type": "code",
   "execution_count": 833,
   "metadata": {},
   "outputs": [],
   "source": [
    "#b = indeed2['salary2'].min()"
   ]
  },
  {
   "cell_type": "code",
   "execution_count": 834,
   "metadata": {},
   "outputs": [],
   "source": [
    "#indeed1['salary1'] = indeed1['salary1'].replace([0],'')\n",
    "#indeed2['salary2'] = indeed2['salary2'].replace([0],'')"
   ]
  },
  {
   "cell_type": "code",
   "execution_count": 835,
   "metadata": {},
   "outputs": [],
   "source": [
    "indeed2['salary2'] = indeed2['salary2'].apply(lambda x: x if pd.notnull(x) else np.random.randint(indeed2['salary2'].min(), indeed2['salary2'].max()))\n"
   ]
  },
  {
   "cell_type": "code",
   "execution_count": 836,
   "metadata": {},
   "outputs": [
    {
     "data": {
      "text/html": [
       "<div>\n",
       "<style scoped>\n",
       "    .dataframe tbody tr th:only-of-type {\n",
       "        vertical-align: middle;\n",
       "    }\n",
       "\n",
       "    .dataframe tbody tr th {\n",
       "        vertical-align: top;\n",
       "    }\n",
       "\n",
       "    .dataframe thead th {\n",
       "        text-align: right;\n",
       "    }\n",
       "</style>\n",
       "<table border=\"1\" class=\"dataframe\">\n",
       "  <thead>\n",
       "    <tr style=\"text-align: right;\">\n",
       "      <th></th>\n",
       "      <th>title</th>\n",
       "      <th>company</th>\n",
       "      <th>summary</th>\n",
       "      <th>location</th>\n",
       "      <th>salary2</th>\n",
       "      <th>Experience</th>\n",
       "    </tr>\n",
       "  </thead>\n",
       "  <tbody>\n",
       "    <tr>\n",
       "      <th>0</th>\n",
       "      <td>Software Developer (No Prior Experience Required)</td>\n",
       "      <td>Revature</td>\n",
       "      <td>College degree (Associates or Bachelors).\\nMus...</td>\n",
       "      <td>Washington, DC</td>\n",
       "      <td>181944.0</td>\n",
       "      <td>8</td>\n",
       "    </tr>\n",
       "    <tr>\n",
       "      <th>1</th>\n",
       "      <td>SQL Application Developer</td>\n",
       "      <td>ServiceSource Inc.</td>\n",
       "      <td>Assist with the management and coordination be...</td>\n",
       "      <td>Capitol Heights, MD</td>\n",
       "      <td>201611.0</td>\n",
       "      <td>8</td>\n",
       "    </tr>\n",
       "    <tr>\n",
       "      <th>2</th>\n",
       "      <td>GIS Developer</td>\n",
       "      <td>Leidos</td>\n",
       "      <td>Train other team members on GIS and other GIS ...</td>\n",
       "      <td>Washington, DC 20090 (South West area)+1 location</td>\n",
       "      <td>167646.0</td>\n",
       "      <td>6</td>\n",
       "    </tr>\n",
       "    <tr>\n",
       "      <th>3</th>\n",
       "      <td>Jr Software Developer</td>\n",
       "      <td>KSquare Inc.</td>\n",
       "      <td>BS/ MS in IT or equivalent is required with st...</td>\n",
       "      <td>Greenbelt, MD 20770</td>\n",
       "      <td>99524.0</td>\n",
       "      <td>7</td>\n",
       "    </tr>\n",
       "    <tr>\n",
       "      <th>4</th>\n",
       "      <td>HP059 Junior Software Developer</td>\n",
       "      <td>ADNET Systems, Inc.</td>\n",
       "      <td>Experience with using a Git workflow for softw...</td>\n",
       "      <td>Greenbelt, MD 20771</td>\n",
       "      <td>113978.0</td>\n",
       "      <td>8</td>\n",
       "    </tr>\n",
       "    <tr>\n",
       "      <th>...</th>\n",
       "      <td>...</td>\n",
       "      <td>...</td>\n",
       "      <td>...</td>\n",
       "      <td>...</td>\n",
       "      <td>...</td>\n",
       "      <td>...</td>\n",
       "    </tr>\n",
       "    <tr>\n",
       "      <th>12884</th>\n",
       "      <td>VIRTUAL Senior Machine Learning/AI Developer</td>\n",
       "      <td>Deloitte</td>\n",
       "      <td>Collaborate with data scientists, data enginee...</td>\n",
       "      <td>McLean, VA+1 location•Remote</td>\n",
       "      <td>200700.0</td>\n",
       "      <td>7</td>\n",
       "    </tr>\n",
       "    <tr>\n",
       "      <th>12885</th>\n",
       "      <td>Artificial Intelligence Solutions Architect, S...</td>\n",
       "      <td>Booz Allen Hamilton</td>\n",
       "      <td>Set and execute an Artificial Intelligence (AI...</td>\n",
       "      <td>Annapolis Junction, MD 20701</td>\n",
       "      <td>148224.0</td>\n",
       "      <td>10</td>\n",
       "    </tr>\n",
       "    <tr>\n",
       "      <th>12886</th>\n",
       "      <td>Senior Data Analyst</td>\n",
       "      <td>Confidential Priviately-Held Company</td>\n",
       "      <td>Data mapping (data definitions and business ru...</td>\n",
       "      <td>United States</td>\n",
       "      <td>175000.0</td>\n",
       "      <td>10</td>\n",
       "    </tr>\n",
       "    <tr>\n",
       "      <th>12887</th>\n",
       "      <td>Senior Data Scientist</td>\n",
       "      <td>IXIS Digital</td>\n",
       "      <td>Expertise working with data in the wild, inclu...</td>\n",
       "      <td>United States•Remote</td>\n",
       "      <td>153256.0</td>\n",
       "      <td>8</td>\n",
       "    </tr>\n",
       "    <tr>\n",
       "      <th>12888</th>\n",
       "      <td>Deep Learning Analytics – Senior Advanced Data...</td>\n",
       "      <td>General Dynamics Mission Systems, Inc</td>\n",
       "      <td>Direct and collaborate with a dispersed and di...</td>\n",
       "      <td>United States•Remote</td>\n",
       "      <td>209487.0</td>\n",
       "      <td>8</td>\n",
       "    </tr>\n",
       "  </tbody>\n",
       "</table>\n",
       "<p>12889 rows × 6 columns</p>\n",
       "</div>"
      ],
      "text/plain": [
       "                                                   title  \\\n",
       "0      Software Developer (No Prior Experience Required)   \n",
       "1                              SQL Application Developer   \n",
       "2                                          GIS Developer   \n",
       "3                                  Jr Software Developer   \n",
       "4                        HP059 Junior Software Developer   \n",
       "...                                                  ...   \n",
       "12884       VIRTUAL Senior Machine Learning/AI Developer   \n",
       "12885  Artificial Intelligence Solutions Architect, S...   \n",
       "12886                                Senior Data Analyst   \n",
       "12887                              Senior Data Scientist   \n",
       "12888  Deep Learning Analytics – Senior Advanced Data...   \n",
       "\n",
       "                                     company  \\\n",
       "0                                   Revature   \n",
       "1                         ServiceSource Inc.   \n",
       "2                                     Leidos   \n",
       "3                               KSquare Inc.   \n",
       "4                        ADNET Systems, Inc.   \n",
       "...                                      ...   \n",
       "12884                               Deloitte   \n",
       "12885                    Booz Allen Hamilton   \n",
       "12886   Confidential Priviately-Held Company   \n",
       "12887                           IXIS Digital   \n",
       "12888  General Dynamics Mission Systems, Inc   \n",
       "\n",
       "                                                 summary  \\\n",
       "0      College degree (Associates or Bachelors).\\nMus...   \n",
       "1      Assist with the management and coordination be...   \n",
       "2      Train other team members on GIS and other GIS ...   \n",
       "3      BS/ MS in IT or equivalent is required with st...   \n",
       "4      Experience with using a Git workflow for softw...   \n",
       "...                                                  ...   \n",
       "12884  Collaborate with data scientists, data enginee...   \n",
       "12885  Set and execute an Artificial Intelligence (AI...   \n",
       "12886  Data mapping (data definitions and business ru...   \n",
       "12887  Expertise working with data in the wild, inclu...   \n",
       "12888  Direct and collaborate with a dispersed and di...   \n",
       "\n",
       "                                                location   salary2  Experience  \n",
       "0                                         Washington, DC  181944.0           8  \n",
       "1                                    Capitol Heights, MD  201611.0           8  \n",
       "2      Washington, DC 20090 (South West area)+1 location  167646.0           6  \n",
       "3                                    Greenbelt, MD 20770   99524.0           7  \n",
       "4                                    Greenbelt, MD 20771  113978.0           8  \n",
       "...                                                  ...       ...         ...  \n",
       "12884                       McLean, VA+1 location•Remote  200700.0           7  \n",
       "12885                       Annapolis Junction, MD 20701  148224.0          10  \n",
       "12886                                      United States  175000.0          10  \n",
       "12887                               United States•Remote  153256.0           8  \n",
       "12888                               United States•Remote  209487.0           8  \n",
       "\n",
       "[12889 rows x 6 columns]"
      ]
     },
     "execution_count": 836,
     "metadata": {},
     "output_type": "execute_result"
    }
   ],
   "source": [
    "indeed2"
   ]
  },
  {
   "cell_type": "code",
   "execution_count": 837,
   "metadata": {},
   "outputs": [],
   "source": [
    "indeed1['salary1'] = indeed1['salary1'].apply(lambda x: x if pd.notnull(x) else np.random.randint(indeed1['salary1'].min(), indeed1['salary1'].max()))\n"
   ]
  },
  {
   "cell_type": "code",
   "execution_count": 838,
   "metadata": {},
   "outputs": [
    {
     "data": {
      "text/plain": [
       "title         0\n",
       "company       0\n",
       "summary       0\n",
       "location      0\n",
       "salary2       0\n",
       "Experience    0\n",
       "dtype: int64"
      ]
     },
     "execution_count": 838,
     "metadata": {},
     "output_type": "execute_result"
    }
   ],
   "source": [
    "#indeed2.isnull().sum()"
   ]
  },
  {
   "cell_type": "code",
   "execution_count": 839,
   "metadata": {},
   "outputs": [],
   "source": [
    "#indeed1['salary1'] = indeed1['salary1'].map(\n",
    "#    lambda x: np.random.choice([c, d]) if np.isnan(x) else x\n",
    "#)"
   ]
  },
  {
   "cell_type": "code",
   "execution_count": 840,
   "metadata": {},
   "outputs": [],
   "source": [
    "indeed1 = indeed1.rename(columns = {\"salary1\":\"salary\"})"
   ]
  },
  {
   "cell_type": "code",
   "execution_count": 1037,
   "metadata": {},
   "outputs": [],
   "source": [
    "indeed2 = indeed2.rename(columns = {\"salary2\":\"salary\"})"
   ]
  },
  {
   "cell_type": "code",
   "execution_count": null,
   "metadata": {},
   "outputs": [],
   "source": []
  },
  {
   "cell_type": "code",
   "execution_count": null,
   "metadata": {},
   "outputs": [],
   "source": []
  },
  {
   "cell_type": "code",
   "execution_count": 1010,
   "metadata": {},
   "outputs": [],
   "source": [
    "os.chdir('/Users/rishi/Desktop/DAEN 690/glassdoor')"
   ]
  },
  {
   "cell_type": "code",
   "execution_count": 1011,
   "metadata": {},
   "outputs": [],
   "source": [
    "glassdoor=pd.read_csv('jobs.csv')"
   ]
  },
  {
   "cell_type": "code",
   "execution_count": 1012,
   "metadata": {},
   "outputs": [],
   "source": [
    "del glassdoor['Rating']\n",
    "del glassdoor['Headquarters']\n",
    "del glassdoor['Size']\n",
    "del glassdoor['Founded']\n",
    "del glassdoor['Type of ownership']\n",
    "del glassdoor['Industry']\n",
    "del glassdoor['Sector']\n",
    "del glassdoor['Revenue']\n",
    "del glassdoor['Competitors']\n",
    "del glassdoor['Easy Apply']"
   ]
  },
  {
   "cell_type": "code",
   "execution_count": 1013,
   "metadata": {},
   "outputs": [],
   "source": [
    "#glassdoor['Experience'] = np.random.randint(1, 8, glassdoor.shape[0])"
   ]
  },
  {
   "cell_type": "code",
   "execution_count": 1014,
   "metadata": {},
   "outputs": [],
   "source": [
    "glassdoor.rename(columns={'Job Title': 'title', 'Salary Estimate': 'salary','Job Description':'summary','Company Name':'company','Location':'location'}, inplace=True)\n"
   ]
  },
  {
   "cell_type": "code",
   "execution_count": 1015,
   "metadata": {},
   "outputs": [
    {
     "data": {
      "text/html": [
       "<div>\n",
       "<style scoped>\n",
       "    .dataframe tbody tr th:only-of-type {\n",
       "        vertical-align: middle;\n",
       "    }\n",
       "\n",
       "    .dataframe tbody tr th {\n",
       "        vertical-align: top;\n",
       "    }\n",
       "\n",
       "    .dataframe thead th {\n",
       "        text-align: right;\n",
       "    }\n",
       "</style>\n",
       "<table border=\"1\" class=\"dataframe\">\n",
       "  <thead>\n",
       "    <tr style=\"text-align: right;\">\n",
       "      <th></th>\n",
       "      <th>title</th>\n",
       "      <th>salary</th>\n",
       "      <th>summary</th>\n",
       "      <th>company</th>\n",
       "      <th>location</th>\n",
       "    </tr>\n",
       "  </thead>\n",
       "  <tbody>\n",
       "    <tr>\n",
       "      <th>0</th>\n",
       "      <td>Project Manager / Business Analyst</td>\n",
       "      <td>$77K-$151K (Glassdoor est.)</td>\n",
       "      <td>Project Manager / Business Analyst\\n\\n\\nIn the...</td>\n",
       "      <td>DNTG\\n2.9</td>\n",
       "      <td>Buena Park, CA</td>\n",
       "    </tr>\n",
       "    <tr>\n",
       "      <th>1</th>\n",
       "      <td>Project Manager / Business Analyst</td>\n",
       "      <td>$41K-$81K (Glassdoor est.)</td>\n",
       "      <td>This is a hybrid role of PM and BA with 3 to 5...</td>\n",
       "      <td>Diversant LLC\\n3.8</td>\n",
       "      <td>Houston, TX</td>\n",
       "    </tr>\n",
       "    <tr>\n",
       "      <th>2</th>\n",
       "      <td>Project Manager/Business Consultant</td>\n",
       "      <td>$45K-$53K (Glassdoor est.)</td>\n",
       "      <td>Project Manager/Business Consultant\\n\\nRespons...</td>\n",
       "      <td>TEC Group Inc</td>\n",
       "      <td>Houston, TX</td>\n",
       "    </tr>\n",
       "    <tr>\n",
       "      <th>3</th>\n",
       "      <td>Project Manager Business Analyst</td>\n",
       "      <td>$89K-$107K (Glassdoor est.)</td>\n",
       "      <td>Job Description\\nAt E78, we assist our clients...</td>\n",
       "      <td>Trillium Solutions Group\\n4.8</td>\n",
       "      <td>Horsham, PA</td>\n",
       "    </tr>\n",
       "    <tr>\n",
       "      <th>4</th>\n",
       "      <td>Project Manager Business Analyst</td>\n",
       "      <td>$36K-$73K (Glassdoor est.)</td>\n",
       "      <td>Job Description\\nCSS Tec is currently seeking ...</td>\n",
       "      <td>Contemporary Staffing Solutions\\n4.4</td>\n",
       "      <td>Jacksonville, FL</td>\n",
       "    </tr>\n",
       "  </tbody>\n",
       "</table>\n",
       "</div>"
      ],
      "text/plain": [
       "                                 title                       salary  \\\n",
       "0   Project Manager / Business Analyst  $77K-$151K (Glassdoor est.)   \n",
       "1   Project Manager / Business Analyst   $41K-$81K (Glassdoor est.)   \n",
       "2  Project Manager/Business Consultant   $45K-$53K (Glassdoor est.)   \n",
       "3     Project Manager Business Analyst  $89K-$107K (Glassdoor est.)   \n",
       "4     Project Manager Business Analyst   $36K-$73K (Glassdoor est.)   \n",
       "\n",
       "                                             summary  \\\n",
       "0  Project Manager / Business Analyst\\n\\n\\nIn the...   \n",
       "1  This is a hybrid role of PM and BA with 3 to 5...   \n",
       "2  Project Manager/Business Consultant\\n\\nRespons...   \n",
       "3  Job Description\\nAt E78, we assist our clients...   \n",
       "4  Job Description\\nCSS Tec is currently seeking ...   \n",
       "\n",
       "                                company          location  \n",
       "0                             DNTG\\n2.9    Buena Park, CA  \n",
       "1                    Diversant LLC\\n3.8       Houston, TX  \n",
       "2                         TEC Group Inc       Houston, TX  \n",
       "3         Trillium Solutions Group\\n4.8       Horsham, PA  \n",
       "4  Contemporary Staffing Solutions\\n4.4  Jacksonville, FL  "
      ]
     },
     "execution_count": 1015,
     "metadata": {},
     "output_type": "execute_result"
    }
   ],
   "source": [
    "glassdoor.head()"
   ]
  },
  {
   "cell_type": "code",
   "execution_count": 1016,
   "metadata": {},
   "outputs": [],
   "source": [
    "glassdoor['salary'] = glassdoor['salary'].str.rstrip(' (Glassdoor est.)')"
   ]
  },
  {
   "cell_type": "code",
   "execution_count": 1017,
   "metadata": {},
   "outputs": [],
   "source": [
    "glassdoor['salary'] = glassdoor['salary'].str.rstrip('(Employ')"
   ]
  },
  {
   "cell_type": "code",
   "execution_count": 1018,
   "metadata": {},
   "outputs": [
    {
     "data": {
      "text/plain": [
       "0       $77K-$151K\n",
       "1        $41K-$81K\n",
       "2        $45K-$53K\n",
       "3       $89K-$107K\n",
       "4        $36K-$73K\n",
       "           ...    \n",
       "2137     $43K-$72K\n",
       "2138    $91K-$143K\n",
       "2139    $48K-$107K\n",
       "2140    $48K-$107K\n",
       "2141    $48K-$107K\n",
       "Name: salary, Length: 2142, dtype: object"
      ]
     },
     "execution_count": 1018,
     "metadata": {},
     "output_type": "execute_result"
    }
   ],
   "source": [
    "glassdoor['salary']"
   ]
  },
  {
   "cell_type": "code",
   "execution_count": 1019,
   "metadata": {},
   "outputs": [],
   "source": [
    "glassdoor['salary'] = glassdoor['salary'].str.rstrip('a year')\n",
    "glassdoor['salary'] = glassdoor['salary'].str.rstrip('an hour')\n",
    "glassdoor['salary'] = glassdoor['salary'].str.rstrip('a week')\n",
    "glassdoor['salary'] = glassdoor['salary'].str.rstrip('a month')\n",
    "#glassdoor['salary'] = glassdoor['salary'].str.lstrip('Up to ')\n",
    "#glassdoor['salary'] = glassdoor['salary'].str.lstrip('From ')\n",
    "glassdoor['salary'] = glassdoor['salary'].str.rstrip('Per Hou')"
   ]
  },
  {
   "cell_type": "code",
   "execution_count": 1020,
   "metadata": {},
   "outputs": [],
   "source": [
    "glassdoor[['salary1','salary2']] = glassdoor.salary.str.split(\"-\",expand=True)\n",
    "glassdoor['salary1'] = glassdoor['salary1'].str.lstrip('$')\n",
    "glassdoor['salary2'] = glassdoor['salary2'].str.lstrip(' $')\n",
    "glassdoor['salary1'] = glassdoor['salary1'].str.lstrip('$')\n",
    "glassdoor['salary2'] = glassdoor['salary2'].str.lstrip(' $')"
   ]
  },
  {
   "cell_type": "code",
   "execution_count": 1021,
   "metadata": {},
   "outputs": [],
   "source": [
    "glassdoor['salary1'] = glassdoor['salary1'].str.rstrip('K')\n",
    "glassdoor['salary2'] = glassdoor['salary2'].str.rstrip('K')"
   ]
  },
  {
   "cell_type": "code",
   "execution_count": 1022,
   "metadata": {},
   "outputs": [],
   "source": [
    "glassdoor['salary1'] = pd.to_numeric(glassdoor['salary1'])\n",
    "glassdoor[\"salary1\"] = 1000 * glassdoor[\"salary1\"]\n",
    "glassdoor['salary2'] = pd.to_numeric(glassdoor['salary2'])\n",
    "glassdoor[\"salary2\"] = 1000 * glassdoor[\"salary2\"]"
   ]
  },
  {
   "cell_type": "code",
   "execution_count": 1028,
   "metadata": {},
   "outputs": [],
   "source": [
    "del glassdoor['salary']"
   ]
  },
  {
   "cell_type": "code",
   "execution_count": 1029,
   "metadata": {},
   "outputs": [],
   "source": [
    "glassdoor1 = glassdoor.copy()"
   ]
  },
  {
   "cell_type": "code",
   "execution_count": 1030,
   "metadata": {},
   "outputs": [],
   "source": [
    "glassdoor2 = glassdoor.copy()"
   ]
  },
  {
   "cell_type": "code",
   "execution_count": 1031,
   "metadata": {},
   "outputs": [],
   "source": [
    "del glassdoor1['salary2']"
   ]
  },
  {
   "cell_type": "code",
   "execution_count": 1032,
   "metadata": {},
   "outputs": [],
   "source": [
    "del glassdoor2['salary1']"
   ]
  },
  {
   "cell_type": "code",
   "execution_count": 1033,
   "metadata": {},
   "outputs": [
    {
     "data": {
      "text/html": [
       "<div>\n",
       "<style scoped>\n",
       "    .dataframe tbody tr th:only-of-type {\n",
       "        vertical-align: middle;\n",
       "    }\n",
       "\n",
       "    .dataframe tbody tr th {\n",
       "        vertical-align: top;\n",
       "    }\n",
       "\n",
       "    .dataframe thead th {\n",
       "        text-align: right;\n",
       "    }\n",
       "</style>\n",
       "<table border=\"1\" class=\"dataframe\">\n",
       "  <thead>\n",
       "    <tr style=\"text-align: right;\">\n",
       "      <th></th>\n",
       "      <th>title</th>\n",
       "      <th>summary</th>\n",
       "      <th>company</th>\n",
       "      <th>location</th>\n",
       "      <th>salary1</th>\n",
       "    </tr>\n",
       "  </thead>\n",
       "  <tbody>\n",
       "    <tr>\n",
       "      <th>0</th>\n",
       "      <td>Project Manager / Business Analyst</td>\n",
       "      <td>Project Manager / Business Analyst\\n\\n\\nIn the...</td>\n",
       "      <td>DNTG\\n2.9</td>\n",
       "      <td>Buena Park, CA</td>\n",
       "      <td>77000</td>\n",
       "    </tr>\n",
       "    <tr>\n",
       "      <th>1</th>\n",
       "      <td>Project Manager / Business Analyst</td>\n",
       "      <td>This is a hybrid role of PM and BA with 3 to 5...</td>\n",
       "      <td>Diversant LLC\\n3.8</td>\n",
       "      <td>Houston, TX</td>\n",
       "      <td>41000</td>\n",
       "    </tr>\n",
       "    <tr>\n",
       "      <th>2</th>\n",
       "      <td>Project Manager/Business Consultant</td>\n",
       "      <td>Project Manager/Business Consultant\\n\\nRespons...</td>\n",
       "      <td>TEC Group Inc</td>\n",
       "      <td>Houston, TX</td>\n",
       "      <td>45000</td>\n",
       "    </tr>\n",
       "    <tr>\n",
       "      <th>3</th>\n",
       "      <td>Project Manager Business Analyst</td>\n",
       "      <td>Job Description\\nAt E78, we assist our clients...</td>\n",
       "      <td>Trillium Solutions Group\\n4.8</td>\n",
       "      <td>Horsham, PA</td>\n",
       "      <td>89000</td>\n",
       "    </tr>\n",
       "    <tr>\n",
       "      <th>4</th>\n",
       "      <td>Project Manager Business Analyst</td>\n",
       "      <td>Job Description\\nCSS Tec is currently seeking ...</td>\n",
       "      <td>Contemporary Staffing Solutions\\n4.4</td>\n",
       "      <td>Jacksonville, FL</td>\n",
       "      <td>36000</td>\n",
       "    </tr>\n",
       "    <tr>\n",
       "      <th>...</th>\n",
       "      <td>...</td>\n",
       "      <td>...</td>\n",
       "      <td>...</td>\n",
       "      <td>...</td>\n",
       "      <td>...</td>\n",
       "    </tr>\n",
       "    <tr>\n",
       "      <th>2137</th>\n",
       "      <td>Software Development Engineering, Analyst</td>\n",
       "      <td>Position Description  What does a great Softwa...</td>\n",
       "      <td>Fiserv\\n3.1</td>\n",
       "      <td>Chicago, IL</td>\n",
       "      <td>43000</td>\n",
       "    </tr>\n",
       "    <tr>\n",
       "      <th>2138</th>\n",
       "      <td>Software Developer / Analyst</td>\n",
       "      <td>Job Title : Software Developer / Analyst   Job...</td>\n",
       "      <td>Genuine IT\\n4.3</td>\n",
       "      <td>Houston, TX</td>\n",
       "      <td>91000</td>\n",
       "    </tr>\n",
       "    <tr>\n",
       "      <th>2139</th>\n",
       "      <td>Test Automation Analyst - II</td>\n",
       "      <td>SWBC has been recognized as one of the Best Co...</td>\n",
       "      <td>Southwest Business Corporation\\n3.1</td>\n",
       "      <td>San Antonio, TX</td>\n",
       "      <td>48000</td>\n",
       "    </tr>\n",
       "    <tr>\n",
       "      <th>2140</th>\n",
       "      <td>Test Automation Analyst II</td>\n",
       "      <td>SUMMARY\\n\\nCreates and maintains manual and au...</td>\n",
       "      <td>SWBC\\n3.1</td>\n",
       "      <td>San Antonio, TX</td>\n",
       "      <td>48000</td>\n",
       "    </tr>\n",
       "    <tr>\n",
       "      <th>2141</th>\n",
       "      <td>Test Automation Analyst II</td>\n",
       "      <td>SUMMARY  Creates and maintains manual and auto...</td>\n",
       "      <td>SWBC\\n3.1</td>\n",
       "      <td>San Antonio, TX</td>\n",
       "      <td>48000</td>\n",
       "    </tr>\n",
       "  </tbody>\n",
       "</table>\n",
       "<p>2142 rows × 5 columns</p>\n",
       "</div>"
      ],
      "text/plain": [
       "                                          title  \\\n",
       "0            Project Manager / Business Analyst   \n",
       "1            Project Manager / Business Analyst   \n",
       "2           Project Manager/Business Consultant   \n",
       "3              Project Manager Business Analyst   \n",
       "4              Project Manager Business Analyst   \n",
       "...                                         ...   \n",
       "2137  Software Development Engineering, Analyst   \n",
       "2138               Software Developer / Analyst   \n",
       "2139               Test Automation Analyst - II   \n",
       "2140                 Test Automation Analyst II   \n",
       "2141                 Test Automation Analyst II   \n",
       "\n",
       "                                                summary  \\\n",
       "0     Project Manager / Business Analyst\\n\\n\\nIn the...   \n",
       "1     This is a hybrid role of PM and BA with 3 to 5...   \n",
       "2     Project Manager/Business Consultant\\n\\nRespons...   \n",
       "3     Job Description\\nAt E78, we assist our clients...   \n",
       "4     Job Description\\nCSS Tec is currently seeking ...   \n",
       "...                                                 ...   \n",
       "2137  Position Description  What does a great Softwa...   \n",
       "2138  Job Title : Software Developer / Analyst   Job...   \n",
       "2139  SWBC has been recognized as one of the Best Co...   \n",
       "2140  SUMMARY\\n\\nCreates and maintains manual and au...   \n",
       "2141  SUMMARY  Creates and maintains manual and auto...   \n",
       "\n",
       "                                   company          location  salary1  \n",
       "0                                DNTG\\n2.9    Buena Park, CA    77000  \n",
       "1                       Diversant LLC\\n3.8       Houston, TX    41000  \n",
       "2                            TEC Group Inc       Houston, TX    45000  \n",
       "3            Trillium Solutions Group\\n4.8       Horsham, PA    89000  \n",
       "4     Contemporary Staffing Solutions\\n4.4  Jacksonville, FL    36000  \n",
       "...                                    ...               ...      ...  \n",
       "2137                           Fiserv\\n3.1       Chicago, IL    43000  \n",
       "2138                       Genuine IT\\n4.3       Houston, TX    91000  \n",
       "2139   Southwest Business Corporation\\n3.1   San Antonio, TX    48000  \n",
       "2140                             SWBC\\n3.1   San Antonio, TX    48000  \n",
       "2141                             SWBC\\n3.1   San Antonio, TX    48000  \n",
       "\n",
       "[2142 rows x 5 columns]"
      ]
     },
     "execution_count": 1033,
     "metadata": {},
     "output_type": "execute_result"
    }
   ],
   "source": [
    "glassdoor1"
   ]
  },
  {
   "cell_type": "code",
   "execution_count": 1035,
   "metadata": {},
   "outputs": [],
   "source": [
    "glassdoor1['Experience'] = np.random.randint(1, 5, glassdoor1.shape[0])"
   ]
  },
  {
   "cell_type": "code",
   "execution_count": 1036,
   "metadata": {},
   "outputs": [],
   "source": [
    "glassdoor2['Experience'] = np.random.randint(6, 11, glassdoor2.shape[0])"
   ]
  },
  {
   "cell_type": "code",
   "execution_count": 1040,
   "metadata": {},
   "outputs": [],
   "source": [
    "glassdoor1 = glassdoor1.rename(columns = {\"salary1\":\"salary\"})\n",
    "glassdoor2 = glassdoor2.rename(columns = {\"salary2\":\"salary\"})"
   ]
  },
  {
   "cell_type": "code",
   "execution_count": 1042,
   "metadata": {},
   "outputs": [
    {
     "data": {
      "text/html": [
       "<div>\n",
       "<style scoped>\n",
       "    .dataframe tbody tr th:only-of-type {\n",
       "        vertical-align: middle;\n",
       "    }\n",
       "\n",
       "    .dataframe tbody tr th {\n",
       "        vertical-align: top;\n",
       "    }\n",
       "\n",
       "    .dataframe thead th {\n",
       "        text-align: right;\n",
       "    }\n",
       "</style>\n",
       "<table border=\"1\" class=\"dataframe\">\n",
       "  <thead>\n",
       "    <tr style=\"text-align: right;\">\n",
       "      <th></th>\n",
       "      <th>title</th>\n",
       "      <th>company</th>\n",
       "      <th>summary</th>\n",
       "      <th>location</th>\n",
       "      <th>salary</th>\n",
       "      <th>Experience</th>\n",
       "    </tr>\n",
       "  </thead>\n",
       "  <tbody>\n",
       "    <tr>\n",
       "      <th>0</th>\n",
       "      <td>Software Developer (No Prior Experience Required)</td>\n",
       "      <td>Revature</td>\n",
       "      <td>College degree (Associates or Bachelors).\\nMus...</td>\n",
       "      <td>Washington, DC</td>\n",
       "      <td>31829.0</td>\n",
       "      <td>1</td>\n",
       "    </tr>\n",
       "    <tr>\n",
       "      <th>1</th>\n",
       "      <td>SQL Application Developer</td>\n",
       "      <td>ServiceSource Inc.</td>\n",
       "      <td>Assist with the management and coordination be...</td>\n",
       "      <td>Capitol Heights, MD</td>\n",
       "      <td>234355.0</td>\n",
       "      <td>3</td>\n",
       "    </tr>\n",
       "    <tr>\n",
       "      <th>2</th>\n",
       "      <td>GIS Developer</td>\n",
       "      <td>Leidos</td>\n",
       "      <td>Train other team members on GIS and other GIS ...</td>\n",
       "      <td>Washington, DC 20090 (South West area)+1 location</td>\n",
       "      <td>198075.0</td>\n",
       "      <td>2</td>\n",
       "    </tr>\n",
       "    <tr>\n",
       "      <th>3</th>\n",
       "      <td>Jr Software Developer</td>\n",
       "      <td>KSquare Inc.</td>\n",
       "      <td>BS/ MS in IT or equivalent is required with st...</td>\n",
       "      <td>Greenbelt, MD 20770</td>\n",
       "      <td>50536.0</td>\n",
       "      <td>3</td>\n",
       "    </tr>\n",
       "    <tr>\n",
       "      <th>4</th>\n",
       "      <td>HP059 Junior Software Developer</td>\n",
       "      <td>ADNET Systems, Inc.</td>\n",
       "      <td>Experience with using a Git workflow for softw...</td>\n",
       "      <td>Greenbelt, MD 20771</td>\n",
       "      <td>122175.0</td>\n",
       "      <td>3</td>\n",
       "    </tr>\n",
       "  </tbody>\n",
       "</table>\n",
       "</div>"
      ],
      "text/plain": [
       "                                               title              company  \\\n",
       "0  Software Developer (No Prior Experience Required)             Revature   \n",
       "1                          SQL Application Developer   ServiceSource Inc.   \n",
       "2                                      GIS Developer               Leidos   \n",
       "3                              Jr Software Developer         KSquare Inc.   \n",
       "4                    HP059 Junior Software Developer  ADNET Systems, Inc.   \n",
       "\n",
       "                                             summary  \\\n",
       "0  College degree (Associates or Bachelors).\\nMus...   \n",
       "1  Assist with the management and coordination be...   \n",
       "2  Train other team members on GIS and other GIS ...   \n",
       "3  BS/ MS in IT or equivalent is required with st...   \n",
       "4  Experience with using a Git workflow for softw...   \n",
       "\n",
       "                                            location    salary  Experience  \n",
       "0                                     Washington, DC   31829.0           1  \n",
       "1                                Capitol Heights, MD  234355.0           3  \n",
       "2  Washington, DC 20090 (South West area)+1 location  198075.0           2  \n",
       "3                                Greenbelt, MD 20770   50536.0           3  \n",
       "4                                Greenbelt, MD 20771  122175.0           3  "
      ]
     },
     "execution_count": 1042,
     "metadata": {},
     "output_type": "execute_result"
    }
   ],
   "source": [
    "frame = [indeed1,indeed2,glassdoor1,glassdoor2]\n",
    "total_data = pd.concat(frame)\n",
    "total_data.head()"
   ]
  },
  {
   "cell_type": "code",
   "execution_count": 1043,
   "metadata": {},
   "outputs": [],
   "source": [
    "#posted dates\n",
    "total_data[\"posted_date\"] = np.random.choice(pd.date_range('2017-01-01', '2021-01-01'), len(total_data))"
   ]
  },
  {
   "cell_type": "code",
   "execution_count": 1044,
   "metadata": {},
   "outputs": [
    {
     "data": {
      "text/html": [
       "<div>\n",
       "<style scoped>\n",
       "    .dataframe tbody tr th:only-of-type {\n",
       "        vertical-align: middle;\n",
       "    }\n",
       "\n",
       "    .dataframe tbody tr th {\n",
       "        vertical-align: top;\n",
       "    }\n",
       "\n",
       "    .dataframe thead th {\n",
       "        text-align: right;\n",
       "    }\n",
       "</style>\n",
       "<table border=\"1\" class=\"dataframe\">\n",
       "  <thead>\n",
       "    <tr style=\"text-align: right;\">\n",
       "      <th></th>\n",
       "      <th>title</th>\n",
       "      <th>company</th>\n",
       "      <th>summary</th>\n",
       "      <th>location</th>\n",
       "      <th>salary</th>\n",
       "      <th>Experience</th>\n",
       "      <th>posted_date</th>\n",
       "    </tr>\n",
       "  </thead>\n",
       "  <tbody>\n",
       "    <tr>\n",
       "      <th>0</th>\n",
       "      <td>Software Developer (No Prior Experience Required)</td>\n",
       "      <td>Revature</td>\n",
       "      <td>College degree (Associates or Bachelors).\\nMus...</td>\n",
       "      <td>Washington, DC</td>\n",
       "      <td>31829.0</td>\n",
       "      <td>1</td>\n",
       "      <td>2019-11-29</td>\n",
       "    </tr>\n",
       "    <tr>\n",
       "      <th>1</th>\n",
       "      <td>SQL Application Developer</td>\n",
       "      <td>ServiceSource Inc.</td>\n",
       "      <td>Assist with the management and coordination be...</td>\n",
       "      <td>Capitol Heights, MD</td>\n",
       "      <td>234355.0</td>\n",
       "      <td>3</td>\n",
       "      <td>2019-04-30</td>\n",
       "    </tr>\n",
       "    <tr>\n",
       "      <th>2</th>\n",
       "      <td>GIS Developer</td>\n",
       "      <td>Leidos</td>\n",
       "      <td>Train other team members on GIS and other GIS ...</td>\n",
       "      <td>Washington, DC 20090 (South West area)+1 location</td>\n",
       "      <td>198075.0</td>\n",
       "      <td>2</td>\n",
       "      <td>2018-09-14</td>\n",
       "    </tr>\n",
       "    <tr>\n",
       "      <th>3</th>\n",
       "      <td>Jr Software Developer</td>\n",
       "      <td>KSquare Inc.</td>\n",
       "      <td>BS/ MS in IT or equivalent is required with st...</td>\n",
       "      <td>Greenbelt, MD 20770</td>\n",
       "      <td>50536.0</td>\n",
       "      <td>3</td>\n",
       "      <td>2019-03-28</td>\n",
       "    </tr>\n",
       "    <tr>\n",
       "      <th>4</th>\n",
       "      <td>HP059 Junior Software Developer</td>\n",
       "      <td>ADNET Systems, Inc.</td>\n",
       "      <td>Experience with using a Git workflow for softw...</td>\n",
       "      <td>Greenbelt, MD 20771</td>\n",
       "      <td>122175.0</td>\n",
       "      <td>3</td>\n",
       "      <td>2018-04-18</td>\n",
       "    </tr>\n",
       "  </tbody>\n",
       "</table>\n",
       "</div>"
      ],
      "text/plain": [
       "                                               title              company  \\\n",
       "0  Software Developer (No Prior Experience Required)             Revature   \n",
       "1                          SQL Application Developer   ServiceSource Inc.   \n",
       "2                                      GIS Developer               Leidos   \n",
       "3                              Jr Software Developer         KSquare Inc.   \n",
       "4                    HP059 Junior Software Developer  ADNET Systems, Inc.   \n",
       "\n",
       "                                             summary  \\\n",
       "0  College degree (Associates or Bachelors).\\nMus...   \n",
       "1  Assist with the management and coordination be...   \n",
       "2  Train other team members on GIS and other GIS ...   \n",
       "3  BS/ MS in IT or equivalent is required with st...   \n",
       "4  Experience with using a Git workflow for softw...   \n",
       "\n",
       "                                            location    salary  Experience  \\\n",
       "0                                     Washington, DC   31829.0           1   \n",
       "1                                Capitol Heights, MD  234355.0           3   \n",
       "2  Washington, DC 20090 (South West area)+1 location  198075.0           2   \n",
       "3                                Greenbelt, MD 20770   50536.0           3   \n",
       "4                                Greenbelt, MD 20771  122175.0           3   \n",
       "\n",
       "  posted_date  \n",
       "0  2019-11-29  \n",
       "1  2019-04-30  \n",
       "2  2018-09-14  \n",
       "3  2019-03-28  \n",
       "4  2018-04-18  "
      ]
     },
     "execution_count": 1044,
     "metadata": {},
     "output_type": "execute_result"
    }
   ],
   "source": [
    "total_data.head()"
   ]
  },
  {
   "cell_type": "code",
   "execution_count": 1045,
   "metadata": {},
   "outputs": [],
   "source": [
    "total_data.to_csv('total_jobs.csv')"
   ]
  },
  {
   "cell_type": "code",
   "execution_count": 1046,
   "metadata": {},
   "outputs": [
    {
     "name": "stdout",
     "output_type": "stream",
     "text": [
      "<class 'pandas.core.frame.DataFrame'>\n",
      "Int64Index: 30062 entries, 0 to 2141\n",
      "Data columns (total 7 columns):\n",
      " #   Column       Non-Null Count  Dtype         \n",
      "---  ------       --------------  -----         \n",
      " 0   title        30062 non-null  object        \n",
      " 1   company      30060 non-null  object        \n",
      " 2   summary      30062 non-null  object        \n",
      " 3   location     30062 non-null  object        \n",
      " 4   salary       30062 non-null  float64       \n",
      " 5   Experience   30062 non-null  int64         \n",
      " 6   posted_date  30062 non-null  datetime64[ns]\n",
      "dtypes: datetime64[ns](1), float64(1), int64(1), object(4)\n",
      "memory usage: 1.8+ MB\n"
     ]
    }
   ],
   "source": [
    "total_data.info()"
   ]
  },
  {
   "cell_type": "code",
   "execution_count": 968,
   "metadata": {},
   "outputs": [],
   "source": [
    "#glassdoor.to_csv('glassdoor.csv')"
   ]
  },
  {
   "cell_type": "code",
   "execution_count": 1047,
   "metadata": {},
   "outputs": [
    {
     "data": {
      "text/html": [
       "<div>\n",
       "<style scoped>\n",
       "    .dataframe tbody tr th:only-of-type {\n",
       "        vertical-align: middle;\n",
       "    }\n",
       "\n",
       "    .dataframe tbody tr th {\n",
       "        vertical-align: top;\n",
       "    }\n",
       "\n",
       "    .dataframe thead th {\n",
       "        text-align: right;\n",
       "    }\n",
       "</style>\n",
       "<table border=\"1\" class=\"dataframe\">\n",
       "  <thead>\n",
       "    <tr style=\"text-align: right;\">\n",
       "      <th></th>\n",
       "      <th>title</th>\n",
       "      <th>summary</th>\n",
       "      <th>company</th>\n",
       "      <th>location</th>\n",
       "      <th>salary</th>\n",
       "      <th>Experience</th>\n",
       "    </tr>\n",
       "  </thead>\n",
       "  <tbody>\n",
       "    <tr>\n",
       "      <th>0</th>\n",
       "      <td>Project Manager / Business Analyst</td>\n",
       "      <td>Project Manager / Business Analyst\\n\\n\\nIn the...</td>\n",
       "      <td>DNTG\\n2.9</td>\n",
       "      <td>Buena Park, CA</td>\n",
       "      <td>77000</td>\n",
       "      <td>3</td>\n",
       "    </tr>\n",
       "    <tr>\n",
       "      <th>1</th>\n",
       "      <td>Project Manager / Business Analyst</td>\n",
       "      <td>This is a hybrid role of PM and BA with 3 to 5...</td>\n",
       "      <td>Diversant LLC\\n3.8</td>\n",
       "      <td>Houston, TX</td>\n",
       "      <td>41000</td>\n",
       "      <td>2</td>\n",
       "    </tr>\n",
       "    <tr>\n",
       "      <th>2</th>\n",
       "      <td>Project Manager/Business Consultant</td>\n",
       "      <td>Project Manager/Business Consultant\\n\\nRespons...</td>\n",
       "      <td>TEC Group Inc</td>\n",
       "      <td>Houston, TX</td>\n",
       "      <td>45000</td>\n",
       "      <td>2</td>\n",
       "    </tr>\n",
       "    <tr>\n",
       "      <th>3</th>\n",
       "      <td>Project Manager Business Analyst</td>\n",
       "      <td>Job Description\\nAt E78, we assist our clients...</td>\n",
       "      <td>Trillium Solutions Group\\n4.8</td>\n",
       "      <td>Horsham, PA</td>\n",
       "      <td>89000</td>\n",
       "      <td>3</td>\n",
       "    </tr>\n",
       "    <tr>\n",
       "      <th>4</th>\n",
       "      <td>Project Manager Business Analyst</td>\n",
       "      <td>Job Description\\nCSS Tec is currently seeking ...</td>\n",
       "      <td>Contemporary Staffing Solutions\\n4.4</td>\n",
       "      <td>Jacksonville, FL</td>\n",
       "      <td>36000</td>\n",
       "      <td>2</td>\n",
       "    </tr>\n",
       "    <tr>\n",
       "      <th>...</th>\n",
       "      <td>...</td>\n",
       "      <td>...</td>\n",
       "      <td>...</td>\n",
       "      <td>...</td>\n",
       "      <td>...</td>\n",
       "      <td>...</td>\n",
       "    </tr>\n",
       "    <tr>\n",
       "      <th>2137</th>\n",
       "      <td>Software Development Engineering, Analyst</td>\n",
       "      <td>Position Description  What does a great Softwa...</td>\n",
       "      <td>Fiserv\\n3.1</td>\n",
       "      <td>Chicago, IL</td>\n",
       "      <td>43000</td>\n",
       "      <td>1</td>\n",
       "    </tr>\n",
       "    <tr>\n",
       "      <th>2138</th>\n",
       "      <td>Software Developer / Analyst</td>\n",
       "      <td>Job Title : Software Developer / Analyst   Job...</td>\n",
       "      <td>Genuine IT\\n4.3</td>\n",
       "      <td>Houston, TX</td>\n",
       "      <td>91000</td>\n",
       "      <td>1</td>\n",
       "    </tr>\n",
       "    <tr>\n",
       "      <th>2139</th>\n",
       "      <td>Test Automation Analyst - II</td>\n",
       "      <td>SWBC has been recognized as one of the Best Co...</td>\n",
       "      <td>Southwest Business Corporation\\n3.1</td>\n",
       "      <td>San Antonio, TX</td>\n",
       "      <td>48000</td>\n",
       "      <td>1</td>\n",
       "    </tr>\n",
       "    <tr>\n",
       "      <th>2140</th>\n",
       "      <td>Test Automation Analyst II</td>\n",
       "      <td>SUMMARY\\n\\nCreates and maintains manual and au...</td>\n",
       "      <td>SWBC\\n3.1</td>\n",
       "      <td>San Antonio, TX</td>\n",
       "      <td>48000</td>\n",
       "      <td>1</td>\n",
       "    </tr>\n",
       "    <tr>\n",
       "      <th>2141</th>\n",
       "      <td>Test Automation Analyst II</td>\n",
       "      <td>SUMMARY  Creates and maintains manual and auto...</td>\n",
       "      <td>SWBC\\n3.1</td>\n",
       "      <td>San Antonio, TX</td>\n",
       "      <td>48000</td>\n",
       "      <td>1</td>\n",
       "    </tr>\n",
       "  </tbody>\n",
       "</table>\n",
       "<p>2142 rows × 6 columns</p>\n",
       "</div>"
      ],
      "text/plain": [
       "                                          title  \\\n",
       "0            Project Manager / Business Analyst   \n",
       "1            Project Manager / Business Analyst   \n",
       "2           Project Manager/Business Consultant   \n",
       "3              Project Manager Business Analyst   \n",
       "4              Project Manager Business Analyst   \n",
       "...                                         ...   \n",
       "2137  Software Development Engineering, Analyst   \n",
       "2138               Software Developer / Analyst   \n",
       "2139               Test Automation Analyst - II   \n",
       "2140                 Test Automation Analyst II   \n",
       "2141                 Test Automation Analyst II   \n",
       "\n",
       "                                                summary  \\\n",
       "0     Project Manager / Business Analyst\\n\\n\\nIn the...   \n",
       "1     This is a hybrid role of PM and BA with 3 to 5...   \n",
       "2     Project Manager/Business Consultant\\n\\nRespons...   \n",
       "3     Job Description\\nAt E78, we assist our clients...   \n",
       "4     Job Description\\nCSS Tec is currently seeking ...   \n",
       "...                                                 ...   \n",
       "2137  Position Description  What does a great Softwa...   \n",
       "2138  Job Title : Software Developer / Analyst   Job...   \n",
       "2139  SWBC has been recognized as one of the Best Co...   \n",
       "2140  SUMMARY\\n\\nCreates and maintains manual and au...   \n",
       "2141  SUMMARY  Creates and maintains manual and auto...   \n",
       "\n",
       "                                   company          location  salary  \\\n",
       "0                                DNTG\\n2.9    Buena Park, CA   77000   \n",
       "1                       Diversant LLC\\n3.8       Houston, TX   41000   \n",
       "2                            TEC Group Inc       Houston, TX   45000   \n",
       "3            Trillium Solutions Group\\n4.8       Horsham, PA   89000   \n",
       "4     Contemporary Staffing Solutions\\n4.4  Jacksonville, FL   36000   \n",
       "...                                    ...               ...     ...   \n",
       "2137                           Fiserv\\n3.1       Chicago, IL   43000   \n",
       "2138                       Genuine IT\\n4.3       Houston, TX   91000   \n",
       "2139   Southwest Business Corporation\\n3.1   San Antonio, TX   48000   \n",
       "2140                             SWBC\\n3.1   San Antonio, TX   48000   \n",
       "2141                             SWBC\\n3.1   San Antonio, TX   48000   \n",
       "\n",
       "      Experience  \n",
       "0              3  \n",
       "1              2  \n",
       "2              2  \n",
       "3              3  \n",
       "4              2  \n",
       "...          ...  \n",
       "2137           1  \n",
       "2138           1  \n",
       "2139           1  \n",
       "2140           1  \n",
       "2141           1  \n",
       "\n",
       "[2142 rows x 6 columns]"
      ]
     },
     "execution_count": 1047,
     "metadata": {},
     "output_type": "execute_result"
    }
   ],
   "source": [
    "glassdoor1"
   ]
  },
  {
   "cell_type": "code",
   "execution_count": null,
   "metadata": {},
   "outputs": [],
   "source": []
  }
 ],
 "metadata": {
  "kernelspec": {
   "display_name": "Python 3",
   "language": "python",
   "name": "python3"
  },
  "language_info": {
   "codemirror_mode": {
    "name": "ipython",
    "version": 3
   },
   "file_extension": ".py",
   "mimetype": "text/x-python",
   "name": "python",
   "nbconvert_exporter": "python",
   "pygments_lexer": "ipython3",
   "version": "3.7.4"
  }
 },
 "nbformat": 4,
 "nbformat_minor": 2
}
